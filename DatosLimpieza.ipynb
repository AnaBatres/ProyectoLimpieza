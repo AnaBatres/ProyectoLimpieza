{
 "cells": [
  {
   "cell_type": "markdown",
   "metadata": {},
   "source": [
    "2. Limpieza de Datos"
   ]
  },
  {
   "cell_type": "code",
   "execution_count": 39,
   "metadata": {},
   "outputs": [
    {
     "name": "stdout",
     "output_type": "stream",
     "text": [
      "¿Dónde hay valores NaN?:\n",
      " 0     False\n",
      "1     False\n",
      "2     False\n",
      "3     False\n",
      "4      True\n",
      "      ...  \n",
      "81    False\n",
      "82    False\n",
      "83    False\n",
      "84    False\n",
      "85    False\n",
      "Name: value, Length: 86, dtype: bool\n",
      "Número de valores vacíos en la columna 'value': 5\n",
      "Media sin contar los NaN: 1250.0\n",
      "Mediana: 1250.0 | Desviación estándar: 0.0\n",
      "Array con NaN reemplazados por la media: [1250. 1250. 1250. 1250. 1250. 1250. 1250. 1250. 1250. 1250. 1250. 1250.\n",
      " 1250. 1250. 1250. 1250. 1250. 1250. 1250. 1250. 1250. 1250. 1250. 1250.\n",
      " 1250. 1250. 1250. 1250. 1250. 1250. 1250. 1250. 1250. 1250. 1250. 1250.\n",
      " 1250. 1250. 1250. 1250. 1250. 1250. 1250. 1250. 1250. 1250. 1250. 1250.\n",
      " 1250. 1250. 1250. 1250. 1250. 1250. 1250. 1250. 1250. 1250. 1250. 1250.\n",
      " 1250. 1250. 1250. 1250. 1250. 1250. 1250. 1250. 1250. 1250. 1250. 1250.\n",
      " 1250. 1250. 1250. 1250. 1250. 1250. 1250. 1250. 1250. 1250. 1250. 1250.\n",
      " 1250. 1250.]\n",
      "Array con NaN reemplazados por 0: [   0. 1250. 1250. 1250. 1250. 1250. 1250.    0. 1250. 1250. 1250.    0.\n",
      "    0. 1250.    0.    0.    0.    0. 1250.    0.    0. 1250.    0.    0.\n",
      "    0.    0.    0. 1250. 1250. 1250.    0.    0. 1250.    0. 1250. 1250.\n",
      " 1250.    0. 1250.    0. 1250.    0. 1250. 1250.    0. 1250.    0. 1250.\n",
      " 1250. 1250. 1250. 1250. 1250. 1250. 1250.    0. 1250. 1250. 1250. 1250.\n",
      " 1250. 1250.    0. 1250.    0. 1250.    0. 1250. 1250.    0.    0.    0.\n",
      " 1250.    0.    0. 1250. 1250.    0. 1250.    0. 1250.    0. 1250. 1250.\n",
      "    0.    0.]\n",
      "Array sin valores NaN:\n",
      " 0        0.0\n",
      "1     1250.0\n",
      "2     1250.0\n",
      "3     1250.0\n",
      "4     1250.0\n",
      "       ...  \n",
      "81       0.0\n",
      "82    1250.0\n",
      "83    1250.0\n",
      "84       0.0\n",
      "85       0.0\n",
      "Name: value, Length: 86, dtype: float64\n"
     ]
    }
   ],
   "source": [
    "import numpy as np\n",
    "import pandas as pd\n",
    "\n",
    "\n",
    "df = pd.read_csv(\"Product_v6.csv\")\n",
    "\n",
    "# 1. np.isnan(arr) - Detectar valores NaN\n",
    "nan_mask = np.isnan(df[\"value\"])  # Devuelve un array booleano donde hay NaN\n",
    "print(\"¿Dónde hay valores NaN?:\\n\", nan_mask)\n",
    "\n",
    "num_nan = df[\"value\"].isna().sum()\n",
    "print(f\"Número de valores vacíos en la columna 'value': {num_nan}\")\n",
    "\n",
    "df[\"value\"] = np.random.choice([np.nan, 1250.00], size=len(df))\n",
    "\n",
    "# 2. np.nanmean(arr) - Calcular la media ignorando NaN\n",
    "mean_value = np.nanmean(df[\"value\"])  # Calcula la media sin NaN\n",
    "print(\"Media sin contar los NaN:\", mean_value)\n",
    "\n",
    "\n",
    "# Funciones relacionadas:\n",
    "median_value = np.nanmedian(df[\"value\"])  # Mediana ignorando NaN\n",
    "std_value = np.nanstd(df[\"value\"])  # Desviación estándar ignorando NaN\n",
    "print(\"Mediana:\", median_value, \"| Desviación estándar:\", std_value)\n",
    "\n",
    "# 3. np.where(cond, x, y) - Reemplazar valores NaN por la media\n",
    "data_filled = np.where(np.isnan(df[\"value\"]), mean_value, df[\"value\"])\n",
    "print(\"Array con NaN reemplazados por la media:\", data_filled)\n",
    "\n",
    "\n",
    "# np.nan_to_num() - Reemplaza NaN con 0 (o un valor especificado)\n",
    "data_zero_filled = np.nan_to_num(df[\"value\"], nan=0)\n",
    "print(\"Array con NaN reemplazados por 0:\", data_zero_filled)\n",
    "\n",
    "df #ver los cambios en la columna value\n",
    "\n",
    "data_clean = df[\"value\"][~np.isnan(df[\"value\"])]\n",
    "print(\"Array sin valores NaN:\\n\", data_clean)\n",
    "\n"
   ]
  }
 ],
 "metadata": {
  "kernelspec": {
   "display_name": ".venv",
   "language": "python",
   "name": "python3"
  },
  "language_info": {
   "codemirror_mode": {
    "name": "ipython",
    "version": 3
   },
   "file_extension": ".py",
   "mimetype": "text/x-python",
   "name": "python",
   "nbconvert_exporter": "python",
   "pygments_lexer": "ipython3",
   "version": "3.10.0"
  }
 },
 "nbformat": 4,
 "nbformat_minor": 2
}
